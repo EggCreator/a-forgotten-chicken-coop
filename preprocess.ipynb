{
 "cells": [
  {
   "cell_type": "markdown",
   "source": [
    "# Data Preprocess\n",
    "We found that the original data set does not have a well-structured file name and some of photos need to be white-balanced because of background and light condition"
   ],
   "metadata": {
    "collapsed": false
   }
  },
  {
   "cell_type": "code",
   "execution_count": 2,
   "outputs": [],
   "source": [
    "import os\n",
    "import cv2 as cv\n",
    "import json\n",
    "import pandas as pd\n",
    "import numpy as np"
   ],
   "metadata": {
    "collapsed": false
   }
  },
  {
   "cell_type": "markdown",
   "source": [
    "## Rename the file name"
   ],
   "metadata": {
    "collapsed": false
   }
  },
  {
   "cell_type": "code",
   "execution_count": 3,
   "outputs": [],
   "source": [
    "datadir=\".\\data\\\\autoriaNumberplateOcrRu-2021-09-01\\\\train\\\\img\"\n",
    "jsdir=\".\\data\\\\autoriaNumberplateOcrRu-2021-09-01\\\\train\\\\ann\"\n",
    "picsvdir=\".\\data\\\\autoriaNumberplateOcrRu-2021-09-01\\\\train\\\\preprocessed\"\n",
    "path=os.path.join(datadir)\n",
    "jsp=os.path.join(jsdir)\n",
    "test_jslist=os.listdir(jsp)\n",
    "test_list=os.listdir(path)"
   ],
   "metadata": {
    "collapsed": false
   }
  },
  {
   "cell_type": "code",
   "execution_count": 8,
   "outputs": [],
   "source": [
    "for i in test_jslist:\n",
    "    try:\n",
    "        with open(jsdir+\"\\\\\"+i,\"r\") as ison:\n",
    "            idc=json.load(ison)\n",
    "            name=i.split(\".\")[0]\n",
    "            #print(idc[\"description\"][:6],name)\n",
    "            pname=name+\".png\"\n",
    "        src=os.path.join(datadir,pname)\n",
    "        dst=os.path.join(picsvdir,idc[\"description\"]+\".png\")\n",
    "        os.rename(src,dst)\n",
    "    except:\n",
    "        pass"
   ],
   "metadata": {
    "collapsed": false
   }
  },
  {
   "cell_type": "code",
   "execution_count": 9,
   "outputs": [],
   "source": [
    "datadir=\".\\data\\\\autoriaNumberplateOcrRu-2021-09-01\\\\test\\\\img\"\n",
    "jsdir=\".\\data\\\\autoriaNumberplateOcrRu-2021-09-01\\\\test\\\\ann\"\n",
    "picsvdir=\".\\data\\\\autoriaNumberplateOcrRu-2021-09-01\\\\test\\\\preprocessed\"\n",
    "path=os.path.join(datadir)\n",
    "jsp=os.path.join(jsdir)\n",
    "test_jslist=os.listdir(jsp)\n",
    "test_list=os.listdir(path)\n",
    "for i in test_jslist:\n",
    "    try:\n",
    "        with open(jsdir+\"\\\\\"+i,\"r\") as ison:\n",
    "            idc=json.load(ison)\n",
    "            name=i.split(\".\")[0]\n",
    "            #print(idc[\"description\"][:6],name)\n",
    "            pname=name+\".png\"\n",
    "        src=os.path.join(datadir,pname)\n",
    "        dst=os.path.join(picsvdir,idc[\"description\"]+\".png\")\n",
    "        os.rename(src,dst)\n",
    "    except:\n",
    "        pass"
   ],
   "metadata": {
    "collapsed": false
   }
  },
  {
   "cell_type": "code",
   "execution_count": 11,
   "outputs": [],
   "source": [
    "datadir=\".\\data\\\\autoriaNumberplateOcrRu-2021-09-01\\\\val\\\\img\"\n",
    "jsdir=\".\\data\\\\autoriaNumberplateOcrRu-2021-09-01\\\\val\\\\ann\"\n",
    "picsvdir=\".\\data\\\\autoriaNumberplateOcrRu-2021-09-01\\\\val\\\\preprocessed\"\n",
    "path=os.path.join(datadir)\n",
    "jsp=os.path.join(jsdir)\n",
    "test_jslist=os.listdir(jsp)\n",
    "test_list=os.listdir(path)\n",
    "for i in test_jslist:\n",
    "    try:\n",
    "        with open(jsdir+\"\\\\\"+i,\"r\") as ison:\n",
    "            idc=json.load(ison)\n",
    "            name=i.split(\".\")[0]\n",
    "            #print(idc[\"description\"][:6],name)\n",
    "            pname=name+\".png\"\n",
    "        src=os.path.join(datadir,pname)\n",
    "        dst=os.path.join(picsvdir,idc[\"description\"]+\".png\")\n",
    "        os.rename(src,dst)\n",
    "    except:\n",
    "        pass"
   ],
   "metadata": {
    "collapsed": false
   }
  },
  {
   "cell_type": "markdown",
   "source": [
    "## Resize the image"
   ],
   "metadata": {
    "collapsed": false
   }
  },
  {
   "cell_type": "code",
   "execution_count": null,
   "outputs": [],
   "source": [
    "from PIL import Image\n",
    "dict={}\n",
    "\n",
    "for i in os.listdir(picsvdir):\n",
    "    img=Image.open(picsvdir+\"\\\\\"+i)\n",
    "    size_dict[i]=img.size"
   ],
   "metadata": {
    "collapsed": false
   }
  }
 ],
 "metadata": {
  "kernelspec": {
   "display_name": "Python 3",
   "language": "python",
   "name": "python3"
  },
  "language_info": {
   "codemirror_mode": {
    "name": "ipython",
    "version": 2
   },
   "file_extension": ".py",
   "mimetype": "text/x-python",
   "name": "python",
   "nbconvert_exporter": "python",
   "pygments_lexer": "ipython2",
   "version": "2.7.6"
  }
 },
 "nbformat": 4,
 "nbformat_minor": 0
}
