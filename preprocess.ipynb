{
 "cells": [
  {
   "cell_type": "markdown",
   "source": [
    "# Data Preprocess\n",
    "We found that the original data set does not have a well-structured file name and some of photos need to be grayscale processed because of background and light condition"
   ],
   "metadata": {
    "collapsed": false
   }
  },
  {
   "cell_type": "code",
   "execution_count": 1,
   "outputs": [],
   "source": [
    "from PIL import Image\n",
    "import os\n",
    "import cv2 as cv\n",
    "import json\n",
    "import pandas as pd\n",
    "import numpy as np\n",
    "import sklearn.linear_model as lm"
   ],
   "metadata": {
    "collapsed": false
   }
  },
  {
   "cell_type": "markdown",
   "source": [
    "## Rename the file name"
   ],
   "metadata": {
    "collapsed": false
   }
  },
  {
   "cell_type": "code",
   "execution_count": 3,
   "outputs": [],
   "source": [
    "datadir=\".\\data\\\\autoriaNumberplateOcrRu-2021-09-01\\\\train\\\\img\"\n",
    "jsdir=\".\\data\\\\autoriaNumberplateOcrRu-2021-09-01\\\\train\\\\ann\"\n",
    "picsvdir=\".\\data\\\\autoriaNumberplateOcrRu-2021-09-01\\\\train\\\\preprocessed\"\n",
    "path=os.path.join(datadir)\n",
    "jsp=os.path.join(jsdir)\n",
    "test_jslist=os.listdir(jsp)\n",
    "test_list=os.listdir(path)"
   ],
   "metadata": {
    "collapsed": false
   }
  },
  {
   "cell_type": "code",
   "execution_count": 4,
   "outputs": [
    {
     "ename": "KeyboardInterrupt",
     "evalue": "",
     "output_type": "error",
     "traceback": [
      "\u001B[1;31m---------------------------------------------------------------------------\u001B[0m",
      "\u001B[1;31mKeyboardInterrupt\u001B[0m                         Traceback (most recent call last)",
      "Cell \u001B[1;32mIn[4], line 12\u001B[0m\n\u001B[0;32m     10\u001B[0m     os\u001B[38;5;241m.\u001B[39mrename(src,dst)\n\u001B[0;32m     11\u001B[0m \u001B[38;5;28;01mexcept\u001B[39;00m:\n\u001B[1;32m---> 12\u001B[0m     \u001B[38;5;28;01mpass\u001B[39;00m\n",
      "\u001B[1;31mKeyboardInterrupt\u001B[0m: "
     ]
    }
   ],
   "source": [
    "for i in test_jslist:\n",
    "    try:\n",
    "        with open(jsdir+\"\\\\\"+i,\"r\") as ison:\n",
    "            idc=json.load(ison)\n",
    "            name=i.split(\".\")[0]\n",
    "            #print(idc[\"description\"][:6],name)\n",
    "            pname=name+\".png\"\n",
    "        src=os.path.join(datadir,pname)\n",
    "        dst=os.path.join(picsvdir,idc[\"description\"]+\".png\")\n",
    "        os.rename(src,dst)\n",
    "    except:\n",
    "        pass"
   ],
   "metadata": {
    "collapsed": false
   }
  },
  {
   "cell_type": "code",
   "execution_count": null,
   "outputs": [],
   "source": [
    "datadir=\".\\data\\\\autoriaNumberplateOcrRu-2021-09-01\\\\test\\\\img\"\n",
    "jsdir=\".\\data\\\\autoriaNumberplateOcrRu-2021-09-01\\\\test\\\\ann\"\n",
    "picsvdir=\".\\data\\\\autoriaNumberplateOcrRu-2021-09-01\\\\test\\\\preprocessed\"\n",
    "path=os.path.join(datadir)\n",
    "jsp=os.path.join(jsdir)\n",
    "test_jslist=os.listdir(jsp)\n",
    "test_list=os.listdir(path)\n",
    "for i in test_jslist:\n",
    "    try:\n",
    "        with open(jsdir+\"\\\\\"+i,\"r\") as ison:\n",
    "            idc=json.load(ison)\n",
    "            name=i.split(\".\")[0]\n",
    "            #print(idc[\"description\"][:6],name)\n",
    "            pname=name+\".png\"\n",
    "        src=os.path.join(datadir,pname)\n",
    "        dst=os.path.join(picsvdir,idc[\"description\"]+\".png\")\n",
    "        os.rename(src,dst)\n",
    "    except:\n",
    "        pass"
   ],
   "metadata": {
    "collapsed": false
   }
  },
  {
   "cell_type": "code",
   "execution_count": null,
   "outputs": [],
   "source": [
    "datadir=\".\\data\\\\autoriaNumberplateOcrRu-2021-09-01\\\\val\\\\img\"\n",
    "jsdir=\".\\data\\\\autoriaNumberplateOcrRu-2021-09-01\\\\val\\\\ann\"\n",
    "picsvdir=\".\\data\\\\autoriaNumberplateOcrRu-2021-09-01\\\\val\\\\preprocessed\"\n",
    "path=os.path.join(datadir)\n",
    "jsp=os.path.join(jsdir)\n",
    "test_jslist=os.listdir(jsp)\n",
    "test_list=os.listdir(path)\n",
    "for i in test_jslist:\n",
    "    try:\n",
    "        with open(jsdir+\"\\\\\"+i,\"r\") as ison:\n",
    "            idc=json.load(ison)\n",
    "            name=i.split(\".\")[0]\n",
    "            #print(idc[\"description\"][:6],name)\n",
    "            pname=name+\".png\"\n",
    "        src=os.path.join(datadir,pname)\n",
    "        dst=os.path.join(picsvdir,idc[\"description\"]+\".png\")\n",
    "        os.rename(src,dst)\n",
    "    except:\n",
    "        pass"
   ],
   "metadata": {
    "collapsed": false
   }
  },
  {
   "cell_type": "markdown",
   "source": [
    "## Resize the image"
   ],
   "metadata": {
    "collapsed": false
   }
  },
  {
   "cell_type": "markdown",
   "source": [
    "### check the size of the image"
   ],
   "metadata": {
    "collapsed": false
   }
  },
  {
   "cell_type": "code",
   "execution_count": 3,
   "outputs": [],
   "source": [
    "name_list=[]\n",
    "width_list=[]\n",
    "height_list=[]\n",
    "picsvdir=\".\\data\\\\autoriaNumberplateOcrRu-2021-09-01\\\\train\\\\preprocessed\"\n",
    "for i in os.listdir(picsvdir):\n",
    "    img=Image.open(picsvdir+\"\\\\\"+i)\n",
    "    width,height=img.size\n",
    "    width_list.append(width)\n",
    "    height_list.append(height)\n",
    "    name_list.append(i.split(\".\")[0])\n",
    "info_df=pd.DataFrame({\"name\":name_list,\"width\":width_list,\"height\":height_list})"
   ],
   "metadata": {
    "collapsed": false
   }
  },
  {
   "cell_type": "code",
   "execution_count": 4,
   "outputs": [
    {
     "data": {
      "text/plain": "              width        height\ncount  47738.000000  47738.000000\nmean     241.426327     52.120805\nstd       88.402524     19.195408\nmin       59.000000     13.000000\n25%      170.000000     37.000000\n50%      230.000000     50.000000\n75%      301.000000     65.000000\nmax      882.000000    191.000000",
      "text/html": "<div>\n<style scoped>\n    .dataframe tbody tr th:only-of-type {\n        vertical-align: middle;\n    }\n\n    .dataframe tbody tr th {\n        vertical-align: top;\n    }\n\n    .dataframe thead th {\n        text-align: right;\n    }\n</style>\n<table border=\"1\" class=\"dataframe\">\n  <thead>\n    <tr style=\"text-align: right;\">\n      <th></th>\n      <th>width</th>\n      <th>height</th>\n    </tr>\n  </thead>\n  <tbody>\n    <tr>\n      <th>count</th>\n      <td>47738.000000</td>\n      <td>47738.000000</td>\n    </tr>\n    <tr>\n      <th>mean</th>\n      <td>241.426327</td>\n      <td>52.120805</td>\n    </tr>\n    <tr>\n      <th>std</th>\n      <td>88.402524</td>\n      <td>19.195408</td>\n    </tr>\n    <tr>\n      <th>min</th>\n      <td>59.000000</td>\n      <td>13.000000</td>\n    </tr>\n    <tr>\n      <th>25%</th>\n      <td>170.000000</td>\n      <td>37.000000</td>\n    </tr>\n    <tr>\n      <th>50%</th>\n      <td>230.000000</td>\n      <td>50.000000</td>\n    </tr>\n    <tr>\n      <th>75%</th>\n      <td>301.000000</td>\n      <td>65.000000</td>\n    </tr>\n    <tr>\n      <th>max</th>\n      <td>882.000000</td>\n      <td>191.000000</td>\n    </tr>\n  </tbody>\n</table>\n</div>"
     },
     "execution_count": 4,
     "metadata": {},
     "output_type": "execute_result"
    }
   ],
   "source": [
    "info_df.describe()"
   ],
   "metadata": {
    "collapsed": false
   }
  },
  {
   "cell_type": "code",
   "execution_count": 5,
   "outputs": [
    {
     "data": {
      "text/plain": "<Axes: xlabel='height'>"
     },
     "execution_count": 5,
     "metadata": {},
     "output_type": "execute_result"
    },
    {
     "data": {
      "text/plain": "<Figure size 1000x1000 with 2 Axes>",
      "image/png": "[encoded data removed]"
     },
     "metadata": {},
     "output_type": "display_data"
    }
   ],
   "source": [
    "import matplotlib.pyplot as plt\n",
    "import seaborn as sns\n",
    "sns.set_theme(style=\"whitegrid\")\n",
    "f,ax=plt.subplots(2,1,figsize=(10,10))\n",
    "sns.boxplot(x=\"width\",data=info_df,ax=ax[0])\n",
    "sns.boxplot(x=\"height\",data=info_df,ax=ax[1])"
   ],
   "metadata": {
    "collapsed": false
   }
  },
  {
   "cell_type": "code",
   "execution_count": 6,
   "outputs": [
    {
     "data": {
      "text/plain": "<Axes: xlabel='width', ylabel='height'>"
     },
     "execution_count": 6,
     "metadata": {},
     "output_type": "execute_result"
    },
    {
     "data": {
      "text/plain": "<Figure size 1000x1000 with 1 Axes>",
      "image/png": "[encoded data removed]"
     },
     "metadata": {},
     "output_type": "display_data"
    }
   ],
   "source": [
    "f=plt.figure(figsize=(10,10))\n",
    "sns.scatterplot(x=\"width\",y=\"height\",data=info_df)"
   ],
   "metadata": {
    "collapsed": false
   }
  },
  {
   "cell_type": "code",
   "execution_count": 7,
   "outputs": [
    {
     "data": {
      "text/plain": "LinearRegression()",
      "text/html": "<style>#sk-container-id-1 {color: black;background-color: white;}#sk-container-id-1 pre{padding: 0;}#sk-container-id-1 div.sk-toggleable {background-color: white;}#sk-container-id-1 label.sk-toggleable__label {cursor: pointer;display: block;width: 100%;margin-bottom: 0;padding: 0.3em;box-sizing: border-box;text-align: center;}#sk-container-id-1 label.sk-toggleable__label-arrow:before {content: \"▸\";float: left;margin-right: 0.25em;color: #696969;}#sk-container-id-1 label.sk-toggleable__label-arrow:hover:before {color: black;}#sk-container-id-1 div.sk-estimator:hover label.sk-toggleable__label-arrow:before {color: black;}#sk-container-id-1 div.sk-toggleable__content {max-height: 0;max-width: 0;overflow: hidden;text-align: left;background-color: #f0f8ff;}#sk-container-id-1 div.sk-toggleable__content pre {margin: 0.2em;color: black;border-radius: 0.25em;background-color: #f0f8ff;}#sk-container-id-1 input.sk-toggleable__control:checked~div.sk-toggleable__content {max-height: 200px;max-width: 100%;overflow: auto;}#sk-container-id-1 input.sk-toggleable__control:checked~label.sk-toggleable__label-arrow:before {content: \"▾\";}#sk-container-id-1 div.sk-estimator input.sk-toggleable__control:checked~label.sk-toggleable__label {background-color: #d4ebff;}#sk-container-id-1 div.sk-label input.sk-toggleable__control:checked~label.sk-toggleable__label {background-color: #d4ebff;}#sk-container-id-1 input.sk-hidden--visually {border: 0;clip: rect(1px 1px 1px 1px);clip: rect(1px, 1px, 1px, 1px);height: 1px;margin: -1px;overflow: hidden;padding: 0;position: absolute;width: 1px;}#sk-container-id-1 div.sk-estimator {font-family: monospace;background-color: #f0f8ff;border: 1px dotted black;border-radius: 0.25em;box-sizing: border-box;margin-bottom: 0.5em;}#sk-container-id-1 div.sk-estimator:hover {background-color: #d4ebff;}#sk-container-id-1 div.sk-parallel-item::after {content: \"\";width: 100%;border-bottom: 1px solid gray;flex-grow: 1;}#sk-container-id-1 div.sk-label:hover label.sk-toggleable__label {background-color: #d4ebff;}#sk-container-id-1 div.sk-serial::before {content: \"\";position: absolute;border-left: 1px solid gray;box-sizing: border-box;top: 0;bottom: 0;left: 50%;z-index: 0;}#sk-container-id-1 div.sk-serial {display: flex;flex-direction: column;align-items: center;background-color: white;padding-right: 0.2em;padding-left: 0.2em;position: relative;}#sk-container-id-1 div.sk-item {position: relative;z-index: 1;}#sk-container-id-1 div.sk-parallel {display: flex;align-items: stretch;justify-content: center;background-color: white;position: relative;}#sk-container-id-1 div.sk-item::before, #sk-container-id-1 div.sk-parallel-item::before {content: \"\";position: absolute;border-left: 1px solid gray;box-sizing: border-box;top: 0;bottom: 0;left: 50%;z-index: -1;}#sk-container-id-1 div.sk-parallel-item {display: flex;flex-direction: column;z-index: 1;position: relative;background-color: white;}#sk-container-id-1 div.sk-parallel-item:first-child::after {align-self: flex-end;width: 50%;}#sk-container-id-1 div.sk-parallel-item:last-child::after {align-self: flex-start;width: 50%;}#sk-container-id-1 div.sk-parallel-item:only-child::after {width: 0;}#sk-container-id-1 div.sk-dashed-wrapped {border: 1px dashed gray;margin: 0 0.4em 0.5em 0.4em;box-sizing: border-box;padding-bottom: 0.4em;background-color: white;}#sk-container-id-1 div.sk-label label {font-family: monospace;font-weight: bold;display: inline-block;line-height: 1.2em;}#sk-container-id-1 div.sk-label-container {text-align: center;}#sk-container-id-1 div.sk-container {/* jupyter's `normalize.less` sets `[hidden] { display: none; }` but bootstrap.min.css set `[hidden] { display: none !important; }` so we also need the `!important` here to be able to override the default hidden behavior on the sphinx rendered scikit-learn.org. See: https://github.com/scikit-learn/scikit-learn/issues/21755 */display: inline-block !important;position: relative;}#sk-container-id-1 div.sk-text-repr-fallback {display: none;}</style><div id=\"sk-container-id-1\" class=\"sk-top-container\"><div class=\"sk-text-repr-fallback\"><pre>LinearRegression()</pre><b>In a Jupyter environment, please rerun this cell to show the HTML representation or trust the notebook. <br />On GitHub, the HTML representation is unable to render, please try loading this page with nbviewer.org.</b></div><div class=\"sk-container\" hidden><div class=\"sk-item\"><div class=\"sk-estimator sk-toggleable\"><input class=\"sk-toggleable__control sk-hidden--visually\" id=\"sk-estimator-id-1\" type=\"checkbox\" checked><label for=\"sk-estimator-id-1\" class=\"sk-toggleable__label sk-toggleable__label-arrow\">LinearRegression</label><div class=\"sk-toggleable__content\"><pre>LinearRegression()</pre></div></div></div></div></div>"
     },
     "execution_count": 7,
     "metadata": {},
     "output_type": "execute_result"
    }
   ],
   "source": [
    "lr=lm.LinearRegression()\n",
    "lr.fit(np.array(info_df[\"width\"]).reshape(-1,1),np.array(info_df[\"height\"]).reshape(-1,1))"
   ],
   "metadata": {
    "collapsed": false,
    "pycharm": {
     "name": "#%%a\n"
    }
   }
  },
  {
   "cell_type": "code",
   "execution_count": 8,
   "outputs": [
    {
     "data": {
      "text/plain": "[<matplotlib.lines.Line2D at 0x246564f9890>]"
     },
     "execution_count": 8,
     "metadata": {},
     "output_type": "execute_result"
    },
    {
     "data": {
      "text/plain": "<Figure size 640x480 with 1 Axes>",
      "image/png": "[encoded data removed]"
     },
     "metadata": {},
     "output_type": "display_data"
    }
   ],
   "source": [
    "sns.scatterplot(x=\"width\",y=\"height\",data=info_df)\n",
    "plt.plot(np.array(info_df[\"width\"]),lr.predict(np.array(info_df[\"width\"]).reshape(-1,1)),color=\"red\")"
   ],
   "metadata": {
    "collapsed": false
   }
  },
  {
   "cell_type": "code",
   "execution_count": 9,
   "outputs": [
    {
     "name": "stdout",
     "output_type": "stream",
     "text": [
      "[[0.21710872]] [-0.29495561]\n"
     ]
    }
   ],
   "source": [
    "print(lr.coef_,lr.intercept_)"
   ],
   "metadata": {
    "collapsed": false
   }
  },
  {
   "cell_type": "code",
   "execution_count": 14,
   "outputs": [
    {
     "name": "stdout",
     "output_type": "stream",
     "text": [
      "230 50.0\n",
      "241 52.0\n"
     ]
    }
   ],
   "source": [
    "print(230,lr.predict(np.array([[230]]))[0,0].round())\n",
    "print(241,lr.predict(np.array([[241]]))[0,0].round())"
   ],
   "metadata": {
    "collapsed": false
   }
  },
  {
   "cell_type": "code",
   "execution_count": 16,
   "outputs": [],
   "source": [
    "picsvdir=\".\\data\\\\autoriaNumberplateOcrRu-2021-09-01\\\\train\\\\preprocessed\"\n",
    "for i in os.listdir(picsvdir):\n",
    "    img=Image.open(picsvdir+\"\\\\\"+i)\n",
    "    width,height=img.size\n",
    "    img=img.resize((230,50))\n",
    "    img.save(picsvdir+\"\\\\\"+i)"
   ],
   "metadata": {
    "collapsed": false
   }
  },
  {
   "cell_type": "code",
   "execution_count": 3,
   "outputs": [],
   "source": [
    "picsvdir=\".\\data\\\\autoriaNumberplateOcrRu-2021-09-01\\\\test\\\\preprocessed\"\n",
    "for i in os.listdir(picsvdir):\n",
    "    img=Image.open(picsvdir+\"\\\\\"+i)\n",
    "    width,height=img.size\n",
    "    img=img.resize((230,50))\n",
    "    img.save(picsvdir+\"\\\\\"+i)\n",
    "picsvdir=\".\\data\\\\autoriaNumberplateOcrRu-2021-09-01\\\\val\\\\preprocessed\"\n",
    "for i in os.listdir(picsvdir):\n",
    "    img=Image.open(picsvdir+\"\\\\\"+i)\n",
    "    width,height=img.size\n",
    "    img=img.resize((230,50))\n",
    "    img.save(picsvdir+\"\\\\\"+i)"
   ],
   "metadata": {
    "collapsed": false
   }
  },
  {
   "cell_type": "markdown",
   "source": [
    "## grayscale the image and remove the noise"
   ],
   "metadata": {
    "collapsed": false
   }
  },
  {
   "cell_type": "code",
   "execution_count": 5,
   "outputs": [],
   "source": [
    "def depoint(img):\n",
    "    pixdata = img.load()\n",
    "    w, h = img.size\n",
    "    for y in range(1, h - 1):\n",
    "        for x in range(1, w - 1):\n",
    "            count = 0\n",
    "            if pixdata[x, y - 1] > 245:\n",
    "                count = count + 1\n",
    "            if pixdata[x, y + 1] > 245:\n",
    "                count = count + 1\n",
    "            if pixdata[x - 1, y] > 245:\n",
    "                count = count + 1\n",
    "            if pixdata[x + 1, y] > 245:\n",
    "                count = count + 1\n",
    "            if pixdata[x - 1, y - 1] > 245:\n",
    "                count = count + 1\n",
    "            if pixdata[x - 1, y + 1] > 245:\n",
    "                count = count + 1\n",
    "            if pixdata[x + 1, y - 1] > 245:\n",
    "                count = count + 1\n",
    "            if pixdata[x + 1, y + 1] > 245:\n",
    "                count = count + 1\n",
    "            if count > 4:\n",
    "                pixdata[x, y] = 255\n",
    "    return img"
   ],
   "metadata": {
    "collapsed": false
   }
  },
  {
   "cell_type": "code",
   "execution_count": 4,
   "outputs": [],
   "source": [
    "picsvdir=\".\\data\\\\autoriaNumberplateOcrRu-2021-09-01\\\\train\\\\preprocessed\"\n",
    "for i in os.listdir(picsvdir):\n",
    "    img=Image.open(picsvdir+\"\\\\\"+i)\n",
    "    img=img.convert(\"L\")\n",
    "    img=depoint(img)\n",
    "    img.save(picsvdir+\"\\\\\"+i)"
   ],
   "metadata": {
    "collapsed": false
   }
  },
  {
   "cell_type": "code",
   "execution_count": 6,
   "outputs": [],
   "source": [
    "picsvdir=\".\\data\\\\autoriaNumberplateOcrRu-2021-09-01\\\\test\\\\preprocessed\"\n",
    "for i in os.listdir(picsvdir):\n",
    "    img=Image.open(picsvdir+\"\\\\\"+i)\n",
    "    img=img.convert(\"L\")\n",
    "    img=depoint(img)\n",
    "    img.save(picsvdir+\"\\\\\"+i)\n",
    "picsvdir=\".\\data\\\\autoriaNumberplateOcrRu-2021-09-01\\\\val\\\\preprocessed\"\n",
    "for i in os.listdir(picsvdir):\n",
    "    img=Image.open(picsvdir+\"\\\\\"+i)\n",
    "    img=img.convert(\"L\")\n",
    "    img=depoint(img)\n",
    "    img.save(picsvdir+\"\\\\\"+i)"
   ],
   "metadata": {
    "collapsed": false
   }
  },
  {
   "cell_type": "markdown",
   "source": [
    "## Check the type of letter in car number plate"
   ],
   "metadata": {
    "collapsed": false
   }
  },
  {
   "cell_type": "code",
   "execution_count": 2,
   "outputs": [],
   "source": [
    "import re\n",
    "import string\n",
    "import numpy as np\n",
    "import pandas as pd\n",
    "import matplotlib.pyplot as plt\n",
    "import seaborn as sns\n",
    "import os\n",
    "sns.set_theme(style=\"whitegrid\")"
   ],
   "metadata": {
    "collapsed": false
   }
  },
  {
   "cell_type": "code",
   "execution_count": 3,
   "outputs": [],
   "source": [
    "path=\".\\data\\\\autoriaNumberplateOcrRu-2021-09-01\\\\train\\\\preprocessed\"\n",
    "name_list=[]\n",
    "type_list=[]\n",
    "letter_list=[]\n",
    "for i in os.listdir(path):\n",
    "    name=i.split(\".\")[0]\n",
    "    name_list.append(name)\n",
    "    ille=[]\n",
    "    itype=[]\n",
    "    for i in range(6):\n",
    "        if name[i] in string.digits:\n",
    "            itype.append(\"digit\")\n",
    "        else:\n",
    "            itype.append(\"letter\")\n",
    "        ille.append(name[i])\n",
    "    ille.append(name[6:])\n",
    "    type_list.append(itype)\n",
    "    letter_list.append(ille)\n",
    "type_df=pd.DataFrame({\"name\":name_list,\"type\":type_list})"
   ],
   "metadata": {
    "collapsed": false
   }
  },
  {
   "cell_type": "code",
   "execution_count": 4,
   "outputs": [
    {
     "data": {
      "text/plain": "            name                                           type\n0       A001AA01  [letter, digit, digit, digit, letter, letter]\n1      A001AA199  [letter, digit, digit, digit, letter, letter]\n2       A001AA36  [letter, digit, digit, digit, letter, letter]\n3       A001AA50  [letter, digit, digit, digit, letter, letter]\n4       A001AA54  [letter, digit, digit, digit, letter, letter]\n...          ...                                            ...\n47733   Y999TA38  [letter, digit, digit, digit, letter, letter]\n47734   Y999TT98  [letter, digit, digit, digit, letter, letter]\n47735  Y999XE177  [letter, digit, digit, digit, letter, letter]\n47736  Y999XX199  [letter, digit, digit, digit, letter, letter]\n47737   Y999YY51  [letter, digit, digit, digit, letter, letter]\n\n[47738 rows x 2 columns]",
      "text/html": "<div>\n<style scoped>\n    .dataframe tbody tr th:only-of-type {\n        vertical-align: middle;\n    }\n\n    .dataframe tbody tr th {\n        vertical-align: top;\n    }\n\n    .dataframe thead th {\n        text-align: right;\n    }\n</style>\n<table border=\"1\" class=\"dataframe\">\n  <thead>\n    <tr style=\"text-align: right;\">\n      <th></th>\n      <th>name</th>\n      <th>type</th>\n    </tr>\n  </thead>\n  <tbody>\n    <tr>\n      <th>0</th>\n      <td>A001AA01</td>\n      <td>[letter, digit, digit, digit, letter, letter]</td>\n    </tr>\n    <tr>\n      <th>1</th>\n      <td>A001AA199</td>\n      <td>[letter, digit, digit, digit, letter, letter]</td>\n    </tr>\n    <tr>\n      <th>2</th>\n      <td>A001AA36</td>\n      <td>[letter, digit, digit, digit, letter, letter]</td>\n    </tr>\n    <tr>\n      <th>3</th>\n      <td>A001AA50</td>\n      <td>[letter, digit, digit, digit, letter, letter]</td>\n    </tr>\n    <tr>\n      <th>4</th>\n      <td>A001AA54</td>\n      <td>[letter, digit, digit, digit, letter, letter]</td>\n    </tr>\n    <tr>\n      <th>...</th>\n      <td>...</td>\n      <td>...</td>\n    </tr>\n    <tr>\n      <th>47733</th>\n      <td>Y999TA38</td>\n      <td>[letter, digit, digit, digit, letter, letter]</td>\n    </tr>\n    <tr>\n      <th>47734</th>\n      <td>Y999TT98</td>\n      <td>[letter, digit, digit, digit, letter, letter]</td>\n    </tr>\n    <tr>\n      <th>47735</th>\n      <td>Y999XE177</td>\n      <td>[letter, digit, digit, digit, letter, letter]</td>\n    </tr>\n    <tr>\n      <th>47736</th>\n      <td>Y999XX199</td>\n      <td>[letter, digit, digit, digit, letter, letter]</td>\n    </tr>\n    <tr>\n      <th>47737</th>\n      <td>Y999YY51</td>\n      <td>[letter, digit, digit, digit, letter, letter]</td>\n    </tr>\n  </tbody>\n</table>\n<p>47738 rows × 2 columns</p>\n</div>"
     },
     "execution_count": 4,
     "metadata": {},
     "output_type": "execute_result"
    }
   ],
   "source": [
    "type_df"
   ],
   "metadata": {
    "collapsed": false
   }
  },
  {
   "cell_type": "code",
   "execution_count": 5,
   "outputs": [
    {
     "data": {
      "text/plain": "[letter, digit, digit, digit, letter, letter]    47738\nName: type, dtype: int64"
     },
     "execution_count": 5,
     "metadata": {},
     "output_type": "execute_result"
    }
   ],
   "source": [
    "type_df[\"type\"].value_counts()"
   ],
   "metadata": {
    "collapsed": false
   }
  },
  {
   "cell_type": "markdown",
   "source": [
    "So we are sure that each certain place in the car number plate is a letter or a digit in first 6 places.\n",
    "And the last 2 or 3 places are digits."
   ],
   "metadata": {
    "collapsed": false
   }
  },
  {
   "cell_type": "code",
   "execution_count": 6,
   "outputs": [
    {
     "data": {
      "text/plain": "            name  1  2  3  4  5  6    7\n0       A001AA01  A  0  0  1  A  A   01\n1      A001AA199  A  0  0  1  A  A  199\n2       A001AA36  A  0  0  1  A  A   36\n3       A001AA50  A  0  0  1  A  A   50\n4       A001AA54  A  0  0  1  A  A   54\n...          ... .. .. .. .. .. ..  ...\n47733   Y999TA38  Y  9  9  9  T  A   38\n47734   Y999TT98  Y  9  9  9  T  T   98\n47735  Y999XE177  Y  9  9  9  X  E  177\n47736  Y999XX199  Y  9  9  9  X  X  199\n47737   Y999YY51  Y  9  9  9  Y  Y   51\n\n[47738 rows x 8 columns]",
      "text/html": "<div>\n<style scoped>\n    .dataframe tbody tr th:only-of-type {\n        vertical-align: middle;\n    }\n\n    .dataframe tbody tr th {\n        vertical-align: top;\n    }\n\n    .dataframe thead th {\n        text-align: right;\n    }\n</style>\n<table border=\"1\" class=\"dataframe\">\n  <thead>\n    <tr style=\"text-align: right;\">\n      <th></th>\n      <th>name</th>\n      <th>1</th>\n      <th>2</th>\n      <th>3</th>\n      <th>4</th>\n      <th>5</th>\n      <th>6</th>\n      <th>7</th>\n    </tr>\n  </thead>\n  <tbody>\n    <tr>\n      <th>0</th>\n      <td>A001AA01</td>\n      <td>A</td>\n      <td>0</td>\n      <td>0</td>\n      <td>1</td>\n      <td>A</td>\n      <td>A</td>\n      <td>01</td>\n    </tr>\n    <tr>\n      <th>1</th>\n      <td>A001AA199</td>\n      <td>A</td>\n      <td>0</td>\n      <td>0</td>\n      <td>1</td>\n      <td>A</td>\n      <td>A</td>\n      <td>199</td>\n    </tr>\n    <tr>\n      <th>2</th>\n      <td>A001AA36</td>\n      <td>A</td>\n      <td>0</td>\n      <td>0</td>\n      <td>1</td>\n      <td>A</td>\n      <td>A</td>\n      <td>36</td>\n    </tr>\n    <tr>\n      <th>3</th>\n      <td>A001AA50</td>\n      <td>A</td>\n      <td>0</td>\n      <td>0</td>\n      <td>1</td>\n      <td>A</td>\n      <td>A</td>\n      <td>50</td>\n    </tr>\n    <tr>\n      <th>4</th>\n      <td>A001AA54</td>\n      <td>A</td>\n      <td>0</td>\n      <td>0</td>\n      <td>1</td>\n      <td>A</td>\n      <td>A</td>\n      <td>54</td>\n    </tr>\n    <tr>\n      <th>...</th>\n      <td>...</td>\n      <td>...</td>\n      <td>...</td>\n      <td>...</td>\n      <td>...</td>\n      <td>...</td>\n      <td>...</td>\n      <td>...</td>\n    </tr>\n    <tr>\n      <th>47733</th>\n      <td>Y999TA38</td>\n      <td>Y</td>\n      <td>9</td>\n      <td>9</td>\n      <td>9</td>\n      <td>T</td>\n      <td>A</td>\n      <td>38</td>\n    </tr>\n    <tr>\n      <th>47734</th>\n      <td>Y999TT98</td>\n      <td>Y</td>\n      <td>9</td>\n      <td>9</td>\n      <td>9</td>\n      <td>T</td>\n      <td>T</td>\n      <td>98</td>\n    </tr>\n    <tr>\n      <th>47735</th>\n      <td>Y999XE177</td>\n      <td>Y</td>\n      <td>9</td>\n      <td>9</td>\n      <td>9</td>\n      <td>X</td>\n      <td>E</td>\n      <td>177</td>\n    </tr>\n    <tr>\n      <th>47736</th>\n      <td>Y999XX199</td>\n      <td>Y</td>\n      <td>9</td>\n      <td>9</td>\n      <td>9</td>\n      <td>X</td>\n      <td>X</td>\n      <td>199</td>\n    </tr>\n    <tr>\n      <th>47737</th>\n      <td>Y999YY51</td>\n      <td>Y</td>\n      <td>9</td>\n      <td>9</td>\n      <td>9</td>\n      <td>Y</td>\n      <td>Y</td>\n      <td>51</td>\n    </tr>\n  </tbody>\n</table>\n<p>47738 rows × 8 columns</p>\n</div>"
     },
     "execution_count": 6,
     "metadata": {},
     "output_type": "execute_result"
    }
   ],
   "source": [
    "letter_df=pd.DataFrame(letter_list,columns=[\"1\",\"2\",\"3\",\"4\",\"5\",\"6\",\"7\"])\n",
    "name_df=pd.DataFrame(name_list,columns=[\"name\"])\n",
    "final_df=pd.concat([name_df,letter_df],axis=1)\n",
    "final_df"
   ],
   "metadata": {
    "collapsed": false
   }
  },
  {
   "cell_type": "code",
   "execution_count": 7,
   "outputs": [
    {
     "data": {
      "text/plain": "B    6555\nA    6541\nE    4590\nK    4557\nH    4417\nO    4110\nT    3618\nC    3501\nX    3358\nY    3085\nP    2931\nM     475\nName: 1, dtype: int64"
     },
     "execution_count": 7,
     "metadata": {},
     "output_type": "execute_result"
    }
   ],
   "source": [
    "final_df[\"1\"].value_counts()"
   ],
   "metadata": {
    "collapsed": false
   }
  },
  {
   "cell_type": "code",
   "execution_count": 8,
   "outputs": [
    {
     "data": {
      "text/plain": "0    6762\n1    4824\n9    4744\n7    4730\n8    4615\n5    4547\n2    4479\n3    4404\n4    4393\n6    4240\nName: 2, dtype: int64"
     },
     "execution_count": 8,
     "metadata": {},
     "output_type": "execute_result"
    }
   ],
   "source": [
    "final_df[\"2\"].value_counts()"
   ],
   "metadata": {
    "collapsed": false
   }
  },
  {
   "cell_type": "code",
   "execution_count": 9,
   "outputs": [
    {
     "data": {
      "text/plain": "0    6805\n7    4711\n8    4703\n9    4593\n1    4582\n2    4550\n5    4531\n3    4487\n4    4444\n6    4332\nName: 3, dtype: int64"
     },
     "execution_count": 9,
     "metadata": {},
     "output_type": "execute_result"
    }
   ],
   "source": [
    "final_df[\"3\"].value_counts()"
   ],
   "metadata": {
    "collapsed": false
   }
  },
  {
   "cell_type": "code",
   "execution_count": 10,
   "outputs": [
    {
     "data": {
      "text/plain": "0    5586\n7    5018\n1    4929\n8    4820\n5    4714\n9    4684\n3    4652\n2    4562\n4    4477\n6    4296\nName: 4, dtype: int64"
     },
     "execution_count": 10,
     "metadata": {},
     "output_type": "execute_result"
    }
   ],
   "source": [
    "final_df[\"4\"].value_counts()"
   ],
   "metadata": {
    "collapsed": false
   }
  },
  {
   "cell_type": "code",
   "execution_count": 11,
   "outputs": [
    {
     "data": {
      "text/plain": "A    5433\nK    4627\nO    4573\nE    4269\nT    4247\nB    4181\nX    4159\nP    4145\nH    4066\nC    3935\nY    3483\nM     620\nName: 5, dtype: int64"
     },
     "execution_count": 11,
     "metadata": {},
     "output_type": "execute_result"
    }
   ],
   "source": [
    "final_df[\"5\"].value_counts()"
   ],
   "metadata": {
    "collapsed": false
   }
  },
  {
   "cell_type": "code",
   "execution_count": 12,
   "outputs": [
    {
     "data": {
      "text/plain": "A    4788\nO    4760\nK    4403\nX    4371\nP    4297\nB    4273\nH    4252\nT    4229\nE    3967\nC    3836\nY    3829\nM     733\nName: 6, dtype: int64"
     },
     "execution_count": 12,
     "metadata": {},
     "output_type": "execute_result"
    }
   ],
   "source": [
    "final_df[\"6\"].value_counts()"
   ],
   "metadata": {
    "collapsed": false
   }
  },
  {
   "cell_type": "code",
   "execution_count": 13,
   "outputs": [
    {
     "data": {
      "text/plain": "35     3954\n777    1516\n178    1404\n799    1208\n82     1157\n       ... \n121       3\n88        2\n85        1\n173       1\n80        1\nName: 7, Length: 139, dtype: int64"
     },
     "execution_count": 13,
     "metadata": {},
     "output_type": "execute_result"
    }
   ],
   "source": [
    "final_df[\"7\"].value_counts()"
   ],
   "metadata": {
    "collapsed": false
   }
  },
  {
   "cell_type": "code",
   "execution_count": 14,
   "outputs": [],
   "source": [
    "csvout=\".\\data\\\\autoriaNumberplateOcrRu-2021-09-01\\\\train\\\\train.csv\"\n",
    "final_df.to_csv(csvout,index=False)"
   ],
   "metadata": {
    "collapsed": false
   }
  },
  {
   "cell_type": "code",
   "execution_count": null,
   "outputs": [],
   "source": [],
   "metadata": {
    "collapsed": false
   }
  }
 ],
 "metadata": {
  "kernelspec": {
   "display_name": "Python 3",
   "language": "python",
   "name": "python3"
  },
  "language_info": {
   "codemirror_mode": {
    "name": "ipython",
    "version": 2
   },
   "file_extension": ".py",
   "mimetype": "text/x-python",
   "name": "python",
   "nbconvert_exporter": "python",
   "pygments_lexer": "ipython2",
   "version": "2.7.6"
  }
 },
 "nbformat": 4,
 "nbformat_minor": 0
}
