{
 "cells": [
  {
   "cell_type": "markdown",
   "source": [
    "# Data Preprocess\n",
    "We found that the original data set does not have a well-structured file name and some of photos need to be white-balanced because of background and light condition"
   ],
   "metadata": {
    "collapsed": false
   }
  },
  {
   "cell_type": "code",
   "execution_count": 1,
   "outputs": [],
   "source": [
    "import os\n",
    "import cv2 as cv\n",
    "import json\n",
    "import pandas as pd\n",
    "import numpy as np"
   ],
   "metadata": {
    "collapsed": false
   }
  },
  {
   "cell_type": "markdown",
   "source": [
    "## Rename the file name"
   ],
   "metadata": {
    "collapsed": false
   }
  },
  {
   "cell_type": "code",
   "execution_count": 3,
   "outputs": [],
   "source": [
    "datadir=\".\\data\\\\autoriaNumberplateOcrRu-2021-09-01\\\\train\\\\img\"\n",
    "jsdir=\".\\data\\\\autoriaNumberplateOcrRu-2021-09-01\\\\train\\\\ann\"\n",
    "picsvdir=\".\\data\\\\autoriaNumberplateOcrRu-2021-09-01\\\\train\\\\preprocessed\"\n",
    "path=os.path.join(datadir)\n",
    "jsp=os.path.join(jsdir)\n",
    "test_jslist=os.listdir(jsp)\n",
    "test_list=os.listdir(path)"
   ],
   "metadata": {
    "collapsed": false
   }
  },
  {
   "cell_type": "code",
   "execution_count": 4,
   "outputs": [
    {
     "ename": "KeyboardInterrupt",
     "evalue": "",
     "output_type": "error",
     "traceback": [
      "\u001B[1;31m---------------------------------------------------------------------------\u001B[0m",
      "\u001B[1;31mKeyboardInterrupt\u001B[0m                         Traceback (most recent call last)",
      "Cell \u001B[1;32mIn[4], line 12\u001B[0m\n\u001B[0;32m     10\u001B[0m     os\u001B[38;5;241m.\u001B[39mrename(src,dst)\n\u001B[0;32m     11\u001B[0m \u001B[38;5;28;01mexcept\u001B[39;00m:\n\u001B[1;32m---> 12\u001B[0m     \u001B[38;5;28;01mpass\u001B[39;00m\n",
      "\u001B[1;31mKeyboardInterrupt\u001B[0m: "
     ]
    }
   ],
   "source": [
    "for i in test_jslist:\n",
    "    try:\n",
    "        with open(jsdir+\"\\\\\"+i,\"r\") as ison:\n",
    "            idc=json.load(ison)\n",
    "            name=i.split(\".\")[0]\n",
    "            #print(idc[\"description\"][:6],name)\n",
    "            pname=name+\".png\"\n",
    "        src=os.path.join(datadir,pname)\n",
    "        dst=os.path.join(picsvdir,idc[\"description\"]+\".png\")\n",
    "        os.rename(src,dst)\n",
    "    except:\n",
    "        pass"
   ],
   "metadata": {
    "collapsed": false
   }
  },
  {
   "cell_type": "code",
   "execution_count": null,
   "outputs": [],
   "source": [
    "datadir=\".\\data\\\\autoriaNumberplateOcrRu-2021-09-01\\\\test\\\\img\"\n",
    "jsdir=\".\\data\\\\autoriaNumberplateOcrRu-2021-09-01\\\\test\\\\ann\"\n",
    "picsvdir=\".\\data\\\\autoriaNumberplateOcrRu-2021-09-01\\\\test\\\\preprocessed\"\n",
    "path=os.path.join(datadir)\n",
    "jsp=os.path.join(jsdir)\n",
    "test_jslist=os.listdir(jsp)\n",
    "test_list=os.listdir(path)\n",
    "for i in test_jslist:\n",
    "    try:\n",
    "        with open(jsdir+\"\\\\\"+i,\"r\") as ison:\n",
    "            idc=json.load(ison)\n",
    "            name=i.split(\".\")[0]\n",
    "            #print(idc[\"description\"][:6],name)\n",
    "            pname=name+\".png\"\n",
    "        src=os.path.join(datadir,pname)\n",
    "        dst=os.path.join(picsvdir,idc[\"description\"]+\".png\")\n",
    "        os.rename(src,dst)\n",
    "    except:\n",
    "        pass"
   ],
   "metadata": {
    "collapsed": false
   }
  },
  {
   "cell_type": "code",
   "execution_count": null,
   "outputs": [],
   "source": [
    "datadir=\".\\data\\\\autoriaNumberplateOcrRu-2021-09-01\\\\val\\\\img\"\n",
    "jsdir=\".\\data\\\\autoriaNumberplateOcrRu-2021-09-01\\\\val\\\\ann\"\n",
    "picsvdir=\".\\data\\\\autoriaNumberplateOcrRu-2021-09-01\\\\val\\\\preprocessed\"\n",
    "path=os.path.join(datadir)\n",
    "jsp=os.path.join(jsdir)\n",
    "test_jslist=os.listdir(jsp)\n",
    "test_list=os.listdir(path)\n",
    "for i in test_jslist:\n",
    "    try:\n",
    "        with open(jsdir+\"\\\\\"+i,\"r\") as ison:\n",
    "            idc=json.load(ison)\n",
    "            name=i.split(\".\")[0]\n",
    "            #print(idc[\"description\"][:6],name)\n",
    "            pname=name+\".png\"\n",
    "        src=os.path.join(datadir,pname)\n",
    "        dst=os.path.join(picsvdir,idc[\"description\"]+\".png\")\n",
    "        os.rename(src,dst)\n",
    "    except:\n",
    "        pass"
   ],
   "metadata": {
    "collapsed": false
   }
  },
  {
   "cell_type": "markdown",
   "source": [
    "## Resize the image"
   ],
   "metadata": {
    "collapsed": false
   }
  },
  {
   "cell_type": "markdown",
   "source": [
    "### check the size of the image"
   ],
   "metadata": {
    "collapsed": false
   }
  },
  {
   "cell_type": "code",
   "execution_count": 2,
   "outputs": [],
   "source": [
    "from PIL import Image\n",
    "name_list=[]\n",
    "width_list=[]\n",
    "height_list=[]\n",
    "picsvdir=\".\\data\\\\autoriaNumberplateOcrRu-2021-09-01\\\\train\\\\preprocessed\"\n",
    "for i in os.listdir(picsvdir):\n",
    "    img=Image.open(picsvdir+\"\\\\\"+i)\n",
    "    width,height=img.size\n",
    "    width_list.append(width)\n",
    "    height_list.append(height)\n",
    "    name_list.append(i.split(\".\")[0])\n",
    "info_df=pd.DataFrame({\"name\":name_list,\"width\":width_list,\"height\":height_list})"
   ],
   "metadata": {
    "collapsed": false
   }
  },
  {
   "cell_type": "code",
   "execution_count": 4,
   "outputs": [
    {
     "data": {
      "text/plain": "              width        height\ncount  47738.000000  47738.000000\nmean     241.426327     52.120805\nstd       88.402524     19.195408\nmin       59.000000     13.000000\n25%      170.000000     37.000000\n50%      230.000000     50.000000\n75%      301.000000     65.000000\nmax      882.000000    191.000000",
      "text/html": "<div>\n<style scoped>\n    .dataframe tbody tr th:only-of-type {\n        vertical-align: middle;\n    }\n\n    .dataframe tbody tr th {\n        vertical-align: top;\n    }\n\n    .dataframe thead th {\n        text-align: right;\n    }\n</style>\n<table border=\"1\" class=\"dataframe\">\n  <thead>\n    <tr style=\"text-align: right;\">\n      <th></th>\n      <th>width</th>\n      <th>height</th>\n    </tr>\n  </thead>\n  <tbody>\n    <tr>\n      <th>count</th>\n      <td>47738.000000</td>\n      <td>47738.000000</td>\n    </tr>\n    <tr>\n      <th>mean</th>\n      <td>241.426327</td>\n      <td>52.120805</td>\n    </tr>\n    <tr>\n      <th>std</th>\n      <td>88.402524</td>\n      <td>19.195408</td>\n    </tr>\n    <tr>\n      <th>min</th>\n      <td>59.000000</td>\n      <td>13.000000</td>\n    </tr>\n    <tr>\n      <th>25%</th>\n      <td>170.000000</td>\n      <td>37.000000</td>\n    </tr>\n    <tr>\n      <th>50%</th>\n      <td>230.000000</td>\n      <td>50.000000</td>\n    </tr>\n    <tr>\n      <th>75%</th>\n      <td>301.000000</td>\n      <td>65.000000</td>\n    </tr>\n    <tr>\n      <th>max</th>\n      <td>882.000000</td>\n      <td>191.000000</td>\n    </tr>\n  </tbody>\n</table>\n</div>"
     },
     "execution_count": 4,
     "metadata": {},
     "output_type": "execute_result"
    }
   ],
   "source": [
    "info_df.describe()"
   ],
   "metadata": {
    "collapsed": false
   }
  },
  {
   "cell_type": "code",
   "execution_count": 5,
   "outputs": [
    {
     "data": {
      "text/plain": "<Axes: xlabel='width'>"
     },
     "execution_count": 5,
     "metadata": {},
     "output_type": "execute_result"
    },
    {
     "data": {
      "text/plain": "<Figure size 1000x1000 with 2 Axes>",
      "image/png": "[encoded data removed]"
     },
     "metadata": {},
     "output_type": "display_data"
    }
   ],
   "source": [
    "import matplotlib.pyplot as plt\n",
    "import seaborn as sns\n",
    "sns.set_theme(style=\"whitegrid\")\n",
    "f,ax=plt.subplots(2,1,figsize=(10,10))\n",
    "sns.boxplot(x=\"width\",data=info_df,ax=ax[0])\n",
    "sns.boxplot(x=\"height\",data=info_df,ax=ax[1])"
   ],
   "metadata": {
    "collapsed": false
   }
  },
  {
   "cell_type": "code",
   "execution_count": null,
   "outputs": [],
   "source": [],
   "metadata": {
    "collapsed": false
   }
  }
 ],
 "metadata": {
  "kernelspec": {
   "display_name": "Python 3",
   "language": "python",
   "name": "python3"
  },
  "language_info": {
   "codemirror_mode": {
    "name": "ipython",
    "version": 2
   },
   "file_extension": ".py",
   "mimetype": "text/x-python",
   "name": "python",
   "nbconvert_exporter": "python",
   "pygments_lexer": "ipython2",
   "version": "2.7.6"
  }
 },
 "nbformat": 4,
 "nbformat_minor": 0
}
